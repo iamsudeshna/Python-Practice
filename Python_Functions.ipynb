{
 "cells": [
  {
   "cell_type": "code",
   "execution_count": 2,
   "id": "5d46905c",
   "metadata": {},
   "outputs": [
    {
     "name": "stdout",
     "output_type": "stream",
     "text": [
      "hi how are u?\n"
     ]
    }
   ],
   "source": [
    "def greet():\n",
    "    print(\"hi how are u?\")\n",
    "greet()"
   ]
  },
  {
   "cell_type": "code",
   "execution_count": 4,
   "id": "717e5fc2",
   "metadata": {},
   "outputs": [
    {
     "name": "stdout",
     "output_type": "stream",
     "text": [
      "hi how are u Sumit ?\n"
     ]
    }
   ],
   "source": [
    "def greet(name):\n",
    "    print(\"hi, how are u\", name ,\"?\")\n",
    "greet(\"Sumit\")"
   ]
  },
  {
   "cell_type": "code",
   "execution_count": 5,
   "id": "73e5530f",
   "metadata": {},
   "outputs": [
    {
     "name": "stdout",
     "output_type": "stream",
     "text": [
      "even\n",
      "odd\n"
     ]
    }
   ],
   "source": [
    "def evenodd(x):\n",
    "    if(x%2==0):\n",
    "        print(\"even\")\n",
    "    else:\n",
    "        print(\"odd\")\n",
    "evenodd(2)\n",
    "evenodd(3)"
   ]
  },
  {
   "cell_type": "code",
   "execution_count": 6,
   "id": "4fe163e2",
   "metadata": {},
   "outputs": [
    {
     "name": "stdout",
     "output_type": "stream",
     "text": [
      "7\n"
     ]
    }
   ],
   "source": [
    "def add(n1,n2):\n",
    "    sum = n1+n2\n",
    "    print(sum)\n",
    "add(10,-3)"
   ]
  },
  {
   "cell_type": "code",
   "execution_count": 9,
   "id": "10b9e269",
   "metadata": {},
   "outputs": [
    {
     "name": "stdout",
     "output_type": "stream",
     "text": [
      "Enter a number : 5\n",
      "Enter another number : 4\n",
      "pre swap\n",
      "a = 5\n",
      "b = 4\n",
      "\n",
      "\n",
      "post swap\n",
      "a = 4\n",
      "b = 5\n"
     ]
    }
   ],
   "source": [
    "#swapping of 2 numbers\n",
    "\n",
    "def swap(a,b):\n",
    "    print(\"pre swap\")\n",
    "    print(\"a =\",a)\n",
    "    print(\"b =\",b)\n",
    "    print(\"\\n\")\n",
    "    temp=a\n",
    "    a=b\n",
    "    b=temp\n",
    "    print(\"post swap\")\n",
    "    print(\"a =\",a)\n",
    "    print(\"b =\",b)\n",
    "a=int(input(\"Enter a number : \"))\n",
    "b=int(input(\"Enter another number : \"))\n",
    "swap(a,b)"
   ]
  },
  {
   "cell_type": "markdown",
   "id": "3a755de0",
   "metadata": {},
   "source": [
    "Using Return statement"
   ]
  },
  {
   "cell_type": "code",
   "execution_count": 11,
   "id": "448cd4af",
   "metadata": {},
   "outputs": [
    {
     "name": "stdout",
     "output_type": "stream",
     "text": [
      "the sum is : 13\n"
     ]
    }
   ],
   "source": [
    "def add(n1,n2):\n",
    "    sum = n1+n2\n",
    "    return sum\n",
    "X = add(10,3)\n",
    "print(\"the sum is :\",X)"
   ]
  },
  {
   "cell_type": "code",
   "execution_count": 14,
   "id": "6d373f63",
   "metadata": {},
   "outputs": [
    {
     "name": "stdout",
     "output_type": "stream",
     "text": [
      "Enter a number : 3\n",
      "Enter another number : 4\n",
      "pre swap\n",
      "a = 3\n",
      "b = 4\n",
      "\n",
      "\n",
      "post swap\n",
      "a = 4\n",
      "b = 3\n"
     ]
    }
   ],
   "source": [
    "def swap(a,b):\n",
    "    print(\"pre swap\")\n",
    "    print(\"a =\",a)\n",
    "    print(\"b =\",b)\n",
    "    print(\"\\n\")\n",
    "    temp=a\n",
    "    a=b\n",
    "    b=temp\n",
    "    return(a,b)\n",
    "\n",
    "a=int(input(\"Enter a number : \"))\n",
    "b=int(input(\"Enter another number : \"))\n",
    "\n",
    "a,b=swap(a,b)\n",
    "\n",
    "print(\"post swap\")\n",
    "print(\"a =\",a)\n",
    "print(\"b =\",b)"
   ]
  },
  {
   "cell_type": "code",
   "execution_count": null,
   "id": "278411d3",
   "metadata": {},
   "outputs": [],
   "source": []
  }
 ],
 "metadata": {
  "kernelspec": {
   "display_name": "Python 3 (ipykernel)",
   "language": "python",
   "name": "python3"
  },
  "language_info": {
   "codemirror_mode": {
    "name": "ipython",
    "version": 3
   },
   "file_extension": ".py",
   "mimetype": "text/x-python",
   "name": "python",
   "nbconvert_exporter": "python",
   "pygments_lexer": "ipython3",
   "version": "3.10.9"
  }
 },
 "nbformat": 4,
 "nbformat_minor": 5
}
