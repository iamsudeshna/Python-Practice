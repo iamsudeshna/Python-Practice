{
 "cells": [
  {
   "cell_type": "markdown",
   "id": "fe71b841",
   "metadata": {},
   "source": [
    "# DAUP ASSIGNMENT ISB Co'24 AMPBA\n"
   ]
  },
  {
   "cell_type": "markdown",
   "id": "33343af8",
   "metadata": {},
   "source": [
    "By Sudeshna Kundu, \n",
    "PGID : 12310045\n",
    "\n",
    "QUESTION 3 Solution"
   ]
  },
  {
   "cell_type": "code",
   "execution_count": 1,
   "id": "e28ee7e4",
   "metadata": {},
   "outputs": [
    {
     "data": {
      "text/html": [
       "<div>\n",
       "<style scoped>\n",
       "    .dataframe tbody tr th:only-of-type {\n",
       "        vertical-align: middle;\n",
       "    }\n",
       "\n",
       "    .dataframe tbody tr th {\n",
       "        vertical-align: top;\n",
       "    }\n",
       "\n",
       "    .dataframe thead th {\n",
       "        text-align: right;\n",
       "    }\n",
       "</style>\n",
       "<table border=\"1\" class=\"dataframe\">\n",
       "  <thead>\n",
       "    <tr style=\"text-align: right;\">\n",
       "      <th></th>\n",
       "      <th>order_id</th>\n",
       "      <th>quantity</th>\n",
       "      <th>item_name</th>\n",
       "      <th>choice_description</th>\n",
       "      <th>item_price</th>\n",
       "    </tr>\n",
       "  </thead>\n",
       "  <tbody>\n",
       "    <tr>\n",
       "      <th>0</th>\n",
       "      <td>1</td>\n",
       "      <td>1</td>\n",
       "      <td>Chips and Fresh Tomato Salsa</td>\n",
       "      <td>NaN</td>\n",
       "      <td>$2.39</td>\n",
       "    </tr>\n",
       "    <tr>\n",
       "      <th>1</th>\n",
       "      <td>1</td>\n",
       "      <td>1</td>\n",
       "      <td>Izze</td>\n",
       "      <td>[Clementine]</td>\n",
       "      <td>$3.39</td>\n",
       "    </tr>\n",
       "    <tr>\n",
       "      <th>2</th>\n",
       "      <td>1</td>\n",
       "      <td>1</td>\n",
       "      <td>Nantucket Nectar</td>\n",
       "      <td>[Apple]</td>\n",
       "      <td>$3.39</td>\n",
       "    </tr>\n",
       "    <tr>\n",
       "      <th>3</th>\n",
       "      <td>1</td>\n",
       "      <td>1</td>\n",
       "      <td>Chips and Tomatillo-Green Chili Salsa</td>\n",
       "      <td>NaN</td>\n",
       "      <td>$2.39</td>\n",
       "    </tr>\n",
       "    <tr>\n",
       "      <th>4</th>\n",
       "      <td>2</td>\n",
       "      <td>2</td>\n",
       "      <td>Chicken Bowl</td>\n",
       "      <td>[Tomatillo-Red Chili Salsa (Hot), [Black Beans...</td>\n",
       "      <td>$16.98</td>\n",
       "    </tr>\n",
       "  </tbody>\n",
       "</table>\n",
       "</div>"
      ],
      "text/plain": [
       "   order_id  quantity                              item_name  \\\n",
       "0         1         1           Chips and Fresh Tomato Salsa   \n",
       "1         1         1                                   Izze   \n",
       "2         1         1                       Nantucket Nectar   \n",
       "3         1         1  Chips and Tomatillo-Green Chili Salsa   \n",
       "4         2         2                           Chicken Bowl   \n",
       "\n",
       "                                  choice_description item_price  \n",
       "0                                                NaN     $2.39   \n",
       "1                                       [Clementine]     $3.39   \n",
       "2                                            [Apple]     $3.39   \n",
       "3                                                NaN     $2.39   \n",
       "4  [Tomatillo-Red Chili Salsa (Hot), [Black Beans...    $16.98   "
      ]
     },
     "execution_count": 1,
     "metadata": {},
     "output_type": "execute_result"
    }
   ],
   "source": [
    "import pandas as pd\n",
    "import numpy as np\n",
    "from decimal import Decimal\n",
    "\n",
    "# a. reading the tsv file\n",
    "df = pd.read_csv('./restaurant.tsv',sep='\\t')\n",
    "df.head()"
   ]
  },
  {
   "cell_type": "code",
   "execution_count": 2,
   "id": "8750d632",
   "metadata": {},
   "outputs": [
    {
     "name": "stdout",
     "output_type": "stream",
     "text": [
      "(4622, 5)\n",
      "(4622, 5)\n"
     ]
    }
   ],
   "source": [
    "# By converting to csv file and reading the data to check if df and df1 returns the same result or not\n",
    "\n",
    "tsv_table = pd.read_table('./restaurant.tsv',sep='\\t')\n",
    "file = tsv_table.to_csv('./restaurant_csv.csv',index=False)\n",
    "df1 = pd.read_csv('./restaurant_csv.csv')\n",
    "df1.head()\n",
    "print(df.shape)\n",
    "print(df1.shape)"
   ]
  },
  {
   "cell_type": "code",
   "execution_count": 3,
   "id": "213cfea8",
   "metadata": {},
   "outputs": [
    {
     "name": "stdout",
     "output_type": "stream",
     "text": [
      "          order_id     quantity\n",
      "count  4622.000000  4622.000000\n",
      "mean    927.254868     1.075725\n",
      "std     528.890796     0.410186\n",
      "min       1.000000     1.000000\n",
      "25%     477.250000     1.000000\n",
      "50%     926.000000     1.000000\n",
      "75%    1393.000000     1.000000\n",
      "max    1834.000000    15.000000\n",
      "=================================================\n",
      "(4622, 5)\n",
      "The count of rows is 4622\n",
      "The count of columns is 5\n",
      "=================================================\n",
      "order_id               int64\n",
      "quantity               int64\n",
      "item_name             object\n",
      "choice_description    object\n",
      "item_price            object\n",
      "dtype: object\n"
     ]
    }
   ],
   "source": [
    "#b.\tProvide summary statistics on the columns in the dataset and \n",
    "#also identify the shape (number of rows, columns) and type of columns in the dataset.\n",
    "print(df.describe())\n",
    "print(\"=================================================\")\n",
    "print(df.shape)\n",
    "print(\"The count of rows is\", df.shape[0])\n",
    "print(\"The count of columns is\", df.shape[1])\n",
    "print(\"=================================================\")\n",
    "datatypes = df.dtypes\n",
    "print(datatypes)"
   ]
  },
  {
   "cell_type": "code",
   "execution_count": 4,
   "id": "be0a8712",
   "metadata": {},
   "outputs": [
    {
     "name": "stdout",
     "output_type": "stream",
     "text": [
      "the max amount an item is ordered is 726\n",
      "====================================================================== \n",
      "\n",
      "                 item_name  order_count\n",
      "index                                  \n",
      "0             Chicken Bowl          726\n",
      "1          Chicken Burrito          553\n",
      "2      Chips and Guacamole          479\n",
      "3            Steak Burrito          368\n",
      "4        Canned Soft Drink          301\n",
      "The item which was ordered the most is Chicken Bowl, it was ordered 726 times\n"
     ]
    }
   ],
   "source": [
    "#c.\tIdentify the item that has been ordered the most in the dataset and how many quantities of that item have been ordered?\n",
    "\n",
    "\n",
    "max_count = max(df[['item_name']].value_counts())   #max no.of times a particular item was ordered\n",
    "print(\"the max amount an item is ordered is\",max_count)   \n",
    "print(\"======================================================================\",'\\n')\n",
    "#created a data frame which has items & their order frequency\n",
    "df1 = df[['item_name']].value_counts().to_frame().reset_index()\n",
    "df1 = df1.rename(columns= {0: \"order_count\"})\n",
    "df1.index.name = 'index'\n",
    "print(df1.head())\n",
    "\n",
    "#Sorting items in descending order of their order frequency\n",
    "df1.sort_values(['order_count'], ascending=False).head()\n",
    "\n",
    "# now getting the name of the item with at the 0th row\n",
    "var1 = df1.iloc[0]['item_name']\n",
    "var2 = df1.iloc[0]['order_count']\n",
    "\n",
    "print(f\"The item which was ordered the most is {var1}, it was ordered {var2} times\")"
   ]
  },
  {
   "cell_type": "code",
   "execution_count": 5,
   "id": "97baede3",
   "metadata": {},
   "outputs": [
    {
     "name": "stdout",
     "output_type": "stream",
     "text": [
      "$ 39237.02\n"
     ]
    }
   ],
   "source": [
    "df.index.name = 'index'\n",
    "sales = Decimal(0.00)\n",
    "p = Decimal(0.00)\n",
    "\n",
    "for i in range(max(df.index)+1):\n",
    "    p = Decimal(df.iloc[i]['item_price'].replace('$','').strip())\n",
    "    sales = sales + p*df.iloc[i]['quantity']\n",
    "print(\"$\",sales)   #the sales of the restaurant during the entire period of the dataset\n"
   ]
  },
  {
   "cell_type": "code",
   "execution_count": 6,
   "id": "8de2ef47",
   "metadata": {},
   "outputs": [
    {
     "name": "stdout",
     "output_type": "stream",
     "text": [
      "       order_id  quantity                              item_name  \\\n",
      "index                                                              \n",
      "0             1         1           Chips and Fresh Tomato Salsa   \n",
      "1             1         1                                   Izze   \n",
      "2             1         1                       Nantucket Nectar   \n",
      "3             1         1  Chips and Tomatillo-Green Chili Salsa   \n",
      "4             2         2                           Chicken Bowl   \n",
      "\n",
      "                                      choice_description item_price  sales  \n",
      "index                                                                       \n",
      "0                                                    NaN     $2.39    2.39  \n",
      "1                                           [Clementine]     $3.39    3.39  \n",
      "2                                                [Apple]     $3.39    3.39  \n",
      "3                                                    NaN     $2.39    2.39  \n",
      "4      [Tomatillo-Red Chili Salsa (Hot), [Black Beans...    $16.98   33.96  \n",
      "       order_id  sales\n",
      "index                 \n",
      "0             1  11.56\n",
      "1             2  33.96\n",
      "2             3  12.67\n",
      "3             4  21.00\n",
      "4             5  13.70\n",
      "5             6  17.50\n",
      "6             7  15.70\n",
      "7             8  10.88\n",
      "8             9  12.85\n",
      "9            10  13.20\n",
      "39237.02\n",
      "1834\n",
      "Average sales per order $ 21.39\n"
     ]
    }
   ],
   "source": [
    "#e.\tOn average, how much does the restaurant make on any order?\n",
    "\n",
    "L1=[]\n",
    "sp = Decimal(0.00)\n",
    "for i in range(max(df.index)+1):\n",
    "    sp = Decimal(df.iloc[i]['item_price'].replace('$','').strip())\n",
    "    sale = sp*int(df.iloc[i]['quantity'])\n",
    "    L1.insert(i,sale)\n",
    "df['sales']=L1\n",
    "print(df.head())\n",
    "\n",
    "#avg sales per order\n",
    "df3 = df[[\"order_id\",\"sales\"]]\n",
    "df4 = df3.groupby([\"order_id\"]).sum().reset_index()   #sum of sales wrt order_id\n",
    "df4.index.name = 'index'    \n",
    "print(df4.head(10))\n",
    "n = 0                               #Number of orders\n",
    "t_s = Decimal(0.00)                 #Total Sales\n",
    "for i in range(max(df4.index)+1):\n",
    "    n = n + 1\n",
    "    t_s = t_s + Decimal(df4.iloc[i]['sales'])\n",
    "    \n",
    "print(t_s)\n",
    "print(n)   \n",
    "print(\"Average sales per order $\",round(t_s/n,2))"
   ]
  }
 ],
 "metadata": {
  "kernelspec": {
   "display_name": "Python 3 (ipykernel)",
   "language": "python",
   "name": "python3"
  },
  "language_info": {
   "codemirror_mode": {
    "name": "ipython",
    "version": 3
   },
   "file_extension": ".py",
   "mimetype": "text/x-python",
   "name": "python",
   "nbconvert_exporter": "python",
   "pygments_lexer": "ipython3",
   "version": "3.10.9"
  }
 },
 "nbformat": 4,
 "nbformat_minor": 5
}
