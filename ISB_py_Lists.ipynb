{
 "cells": [
  {
   "cell_type": "code",
   "execution_count": 2,
   "id": "0d1df83a",
   "metadata": {},
   "outputs": [
    {
     "name": "stdout",
     "output_type": "stream",
     "text": [
      "apple\n",
      "banana\n",
      "mango\n"
     ]
    }
   ],
   "source": [
    "list_1=[\"apple\",\"banana\",\"mango\"]\n",
    "print(list_1[0])\n",
    "print(list_1[1])\n",
    "print(list_1[2])"
   ]
  },
  {
   "cell_type": "code",
   "execution_count": 3,
   "id": "a3db0682",
   "metadata": {},
   "outputs": [
    {
     "name": "stdout",
     "output_type": "stream",
     "text": [
      "['mango', 'grapes', 'berries']\n"
     ]
    }
   ],
   "source": [
    "Fruit_basket=[\"apple\",\"banana\",\"mango\",\"grapes\",\"berries\",\"cherry\",\"kiwi\",\"pineapple\",\"melon\"]\n",
    "print(Fruit_basket[2:5]) \n",
    "\n",
    "#inclusion of element at position index 2(which is the 3rd element) till the element at position index 4(which is the 3rd element) \n",
    "#not inclusive of position index 5"
   ]
  },
  {
   "cell_type": "code",
   "execution_count": 6,
   "id": "2f5cbe4a",
   "metadata": {},
   "outputs": [
    {
     "name": "stdout",
     "output_type": "stream",
     "text": [
      "['apple', 'banana', 'mango', 'grapes']\n"
     ]
    }
   ],
   "source": [
    "#print till position index 4\n",
    "\n",
    "Fruit_basket=[\"apple\",\"banana\",\"mango\",\"grapes\",\"berries\",\"cherry\",\"kiwi\",\"pineapple\",\"melon\"]\n",
    "print(Fruit_basket[:4]) "
   ]
  },
  {
   "cell_type": "code",
   "execution_count": 7,
   "id": "0b776a6e",
   "metadata": {},
   "outputs": [
    {
     "name": "stdout",
     "output_type": "stream",
     "text": [
      "['berries', 'cherry', 'kiwi', 'pineapple', 'melon']\n"
     ]
    }
   ],
   "source": [
    "#print from position index 4 to the end of list\n",
    "\n",
    "Fruit_basket=[\"apple\",\"banana\",\"mango\",\"grapes\",\"berries\",\"cherry\",\"kiwi\",\"pineapple\",\"melon\"]\n",
    "print(Fruit_basket[4:])"
   ]
  },
  {
   "cell_type": "code",
   "execution_count": 12,
   "id": "ea08f006",
   "metadata": {},
   "outputs": [
    {
     "name": "stdout",
     "output_type": "stream",
     "text": [
      "['apple', 'banana', 'raspberry', 'grapes', 'berries', 'blackcurrent', 'kiwi', 'pineapple', 'melon']\n"
     ]
    }
   ],
   "source": [
    "# change the value of cherry to blackcurrent, and mango to raspberry\n",
    "\n",
    "Fruit_basket = [\"apple\",\"banana\",\"mango\",\"grapes\",\"berries\",\"cherry\",\"kiwi\",\"pineapple\",\"melon\"]\n",
    "Fruit_basket[2] = \"raspberry\"\n",
    "Fruit_basket[Fruit_basket.index('cherry')] = \"blackcurrent\"\n",
    "print(Fruit_basket)"
   ]
  },
  {
   "cell_type": "code",
   "execution_count": 4,
   "id": "a19902a9",
   "metadata": {},
   "outputs": [
    {
     "name": "stdout",
     "output_type": "stream",
     "text": [
      "56\n",
      "78\n",
      "[12, 'sudeshna', 'pratyusha']\n"
     ]
    }
   ],
   "source": [
    "list_a = [12, 34, 56, 78]\n",
    "print(list_a[-2])\n",
    "print(list_a[-1])\n",
    "\n",
    "b=[12, 'sudeshna', 'pratyusha']\n",
    "print(b)"
   ]
  },
  {
   "cell_type": "markdown",
   "id": "f98d4468",
   "metadata": {},
   "source": [
    "# Sum of all values in the list"
   ]
  },
  {
   "cell_type": "code",
   "execution_count": 5,
   "id": "14b306e5",
   "metadata": {},
   "outputs": [
    {
     "name": "stdout",
     "output_type": "stream",
     "text": [
      "144\n"
     ]
    }
   ],
   "source": [
    "a = [1,2, 3, 4,56, 34, 44]\n",
    "print(sum(a))"
   ]
  },
  {
   "cell_type": "code",
   "execution_count": 15,
   "id": "419161c2",
   "metadata": {},
   "outputs": [
    {
     "name": "stdout",
     "output_type": "stream",
     "text": [
      "['apple', 'banana', 'mango', 'grapes', 'berries', 'cherry', 'kiwi', 'pineapple', 'melon', 'orange']\n"
     ]
    }
   ],
   "source": [
    "#append() adding 1 item at the end of the list\n",
    "\n",
    "Fruit_basket = [\"apple\",\"banana\",\"mango\",\"grapes\",\"berries\",\"cherry\",\"kiwi\",\"pineapple\",\"melon\"]\n",
    "Fruit_basket.append(\"orange\")\n",
    "print(Fruit_basket)"
   ]
  },
  {
   "cell_type": "code",
   "execution_count": 17,
   "id": "d64b2af3",
   "metadata": {},
   "outputs": [
    {
     "name": "stdout",
     "output_type": "stream",
     "text": [
      "['apple', 'banana', 'mango', 'grapes', 'pomergrate', 'berries', 'cherry', 'kiwi', 'pineapple', 'melon']\n"
     ]
    }
   ],
   "source": [
    "# Insert function appends at any position\n",
    "Fruit_basket = [\"apple\",\"banana\",\"mango\",\"grapes\",\"berries\",\"cherry\",\"kiwi\",\"pineapple\",\"melon\"]\n",
    "Fruit_basket.insert(4,\"pomergrate\")\n",
    "print(Fruit_basket)"
   ]
  },
  {
   "cell_type": "code",
   "execution_count": 7,
   "id": "5509461b",
   "metadata": {},
   "outputs": [
    {
     "name": "stdout",
     "output_type": "stream",
     "text": [
      "['apple', 'banana', 'orange', 'mango', 'papaya', 'strawberry']\n",
      "['apple', 'banana', 'orange', 'mango', 'papaya', 'strawberry', 'kiwi', 'pineapple']\n"
     ]
    },
    {
     "data": {
      "text/plain": [
       "list"
      ]
     },
     "execution_count": 7,
     "metadata": {},
     "output_type": "execute_result"
    }
   ],
   "source": [
    "#Extend() -> append elements from another list or a tuple, dictionary to the current list\n",
    "list_fruits = [\"apple\" , \"banana\", \"orange\"]\n",
    "tropical=[\"mango\",\"papaya\",\"strawberry\"]\n",
    "list_fruits.extend(tropical)\n",
    "print(list_fruits)\n",
    "\n",
    "tuple_fruits=(\"kiwi\",\"pineapple\")\n",
    "list_fruits.extend(tuple_fruits)\n",
    "print(list_fruits)\n",
    "type(list_fruits)"
   ]
  },
  {
   "cell_type": "code",
   "execution_count": 22,
   "id": "65e8fdff",
   "metadata": {},
   "outputs": [
    {
     "name": "stdout",
     "output_type": "stream",
     "text": [
      "['apple', 'orange', 'mango', 'papaya', 'strawberry']\n",
      "apple   0 \n",
      "\n",
      "orange   1 \n",
      "\n",
      "mango   2 \n",
      "\n",
      "papaya   3 \n",
      "\n",
      "strawberry   4 \n",
      "\n",
      "['apple', 'mango', 'papaya', 'strawberry']\n"
     ]
    }
   ],
   "source": [
    "#remove , this function cannot accept position numbers\n",
    "list_fruits = [\"apple\", \"banana\", \"orange\", \"mango\", \"papaya\", \"strawberry\"]\n",
    "list_fruits.remove(\"banana\")\n",
    "print(list_fruits)\n",
    "\n",
    "for i in range(0,len(list_fruits)):\n",
    "  print(list_fruits[i],\" \", i , \"\\n\")\n",
    "\n",
    "#The pop() takes the index number\n",
    "list_fruits.pop(1)\n",
    "print(list_fruits)"
   ]
  },
  {
   "cell_type": "code",
   "execution_count": 1,
   "id": "81a88792",
   "metadata": {},
   "outputs": [],
   "source": [
    "list_new = ['mango', 'apple', 'banana', 'cherry']\n",
    "list_new.remove('banana')\n",
    "print(list_new)"
   ]
  },
  {
   "cell_type": "code",
   "execution_count": 3,
   "id": "7b3de4c8",
   "metadata": {},
   "outputs": [
    {
     "name": "stdout",
     "output_type": "stream",
     "text": [
      "['mango', 'apple', 'banana', 'cherry']\n",
      "['mango', 'banana', 'cherry']\n"
     ]
    }
   ],
   "source": [
    "list_new_1 = ['mango', 'apple', 'banana', 'cherry']\n",
    "print(list_new_1)\n",
    "list_new_1.pop(1)\n",
    "print(list_new_1)"
   ]
  },
  {
   "cell_type": "code",
   "execution_count": 4,
   "id": "ac166ed0",
   "metadata": {},
   "outputs": [
    {
     "name": "stdout",
     "output_type": "stream",
     "text": [
      "['mango', 'apple', 'banana', 'cherry']\n",
      "['apple', 'banana', 'cherry']\n"
     ]
    }
   ],
   "source": [
    "list_new_2 = ['mango', 'apple', 'banana', 'cherry']\n",
    "print(list_new_2)\n",
    "del list_new_2[0]\n",
    "print(list_new_2)\n",
    "del list_new_2"
   ]
  },
  {
   "cell_type": "code",
   "execution_count": 7,
   "id": "64bde3df",
   "metadata": {},
   "outputs": [
    {
     "name": "stdout",
     "output_type": "stream",
     "text": [
      "['a', 'b', 'c', 1, 2, 3]\n"
     ]
    },
    {
     "data": {
      "text/plain": [
       "list"
      ]
     },
     "execution_count": 7,
     "metadata": {},
     "output_type": "execute_result"
    }
   ],
   "source": [
    "list_A =['a','b','c']\n",
    "list_B = [1,2,3]\n",
    "list_C = list_A + list_B\n",
    "print(list_C)\n",
    "type(list_C)"
   ]
  },
  {
   "cell_type": "markdown",
   "id": "471a518f",
   "metadata": {},
   "source": [
    "# Adding values in a dictionary"
   ]
  },
  {
   "cell_type": "code",
   "execution_count": 10,
   "id": "7fb8d127",
   "metadata": {},
   "outputs": [
    {
     "name": "stdout",
     "output_type": "stream",
     "text": [
      "11\n"
     ]
    }
   ],
   "source": [
    "dictionary = {'key1':5,'key2':6}\n",
    "print(sum(dictionary.values()))"
   ]
  },
  {
   "cell_type": "code",
   "execution_count": null,
   "id": "83b83241",
   "metadata": {},
   "outputs": [],
   "source": []
  }
 ],
 "metadata": {
  "kernelspec": {
   "display_name": "Python 3 (ipykernel)",
   "language": "python",
   "name": "python3"
  },
  "language_info": {
   "codemirror_mode": {
    "name": "ipython",
    "version": 3
   },
   "file_extension": ".py",
   "mimetype": "text/x-python",
   "name": "python",
   "nbconvert_exporter": "python",
   "pygments_lexer": "ipython3",
   "version": "3.10.9"
  }
 },
 "nbformat": 4,
 "nbformat_minor": 5
}
