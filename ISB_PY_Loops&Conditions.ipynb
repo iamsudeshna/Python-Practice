{
 "cells": [
  {
   "cell_type": "markdown",
   "id": "195ddf82",
   "metadata": {},
   "source": [
    "ISB pre-reads python Conditional and Jump statements"
   ]
  },
  {
   "cell_type": "markdown",
   "id": "5e453a3b",
   "metadata": {},
   "source": [
    "# LOOP :  TO PRINT ALL NUMBERS FROM 0 TO 10 EXCEPT 3&4 USING WHILE"
   ]
  },
  {
   "cell_type": "code",
   "execution_count": 4,
   "id": "ba47a8e0",
   "metadata": {},
   "outputs": [
    {
     "name": "stdout",
     "output_type": "stream",
     "text": [
      "Number is 1\n",
      "Number is 2\n",
      "Number is 5\n",
      "Number is 6\n",
      "Number is 7\n",
      "Number is 8\n",
      "Number is 9\n",
      "Number is 10\n",
      "Number is 11\n"
     ]
    }
   ],
   "source": [
    "a=0\n",
    "while(a<=10):\n",
    "    a=a+1\n",
    "    if (a==3 or a==4):\n",
    "        a=a+1\n",
    "        continue\n",
    "    print(\"Number is\",a)"
   ]
  },
  {
   "cell_type": "code",
   "execution_count": null,
   "id": "c8880dde",
   "metadata": {},
   "outputs": [],
   "source": [
    "a = 2\n",
    "if (a==1):\n",
    "    print(\"value of a is 1\")\n",
    "else:\n",
    "    print(\"value of a is not 1\")"
   ]
  },
  {
   "cell_type": "code",
   "execution_count": null,
   "id": "3e2f5b41",
   "metadata": {},
   "outputs": [],
   "source": [
    "a = 30\n",
    "b = 20\n",
    "if (a>b):\n",
    "    print(\"value of a is greater than b\")\n",
    "else:\n",
    "    print(\"value of a is not greater than b\")"
   ]
  },
  {
   "cell_type": "code",
   "execution_count": null,
   "id": "07ee94cc",
   "metadata": {},
   "outputs": [],
   "source": [
    "list_1 = [\"python\",\"java\",\"c++\"]\n",
    "if (\"python\" in list_1):\n",
    "    print(\"required val is present in the list\")  #this is case sensitive"
   ]
  },
  {
   "cell_type": "code",
   "execution_count": null,
   "id": "67d462ea",
   "metadata": {},
   "outputs": [],
   "source": [
    "passing_score = 30\n",
    "if (passing_score >= 25):\n",
    "    print(\"passed\")\n",
    "else:\n",
    "    print(\"not passed\")"
   ]
  },
  {
   "cell_type": "code",
   "execution_count": null,
   "id": "dac5a53c",
   "metadata": {},
   "outputs": [],
   "source": [
    "num = 8.5\n",
    "if(num == 0):\n",
    "    print(\"number is 0\")\n",
    "elif(num > 10): \n",
    "    print(\"number is greater than 10\")\n",
    "else:\n",
    "    print(\"number is less than or equals 10\")\n"
   ]
  },
  {
   "cell_type": "code",
   "execution_count": null,
   "id": "32a71757",
   "metadata": {},
   "outputs": [],
   "source": [
    "a = 12\n",
    "if(a%2==0):\n",
    "    print(\"a is div by 2\")\n",
    "    if(a>1 and a<10):\n",
    "        print(\"a is in between 1 to 10\")\n",
    "    else:\n",
    "        print(\"a is not in between 1 to 10\")\n",
    "else:\n",
    "    print(\"a is not div by 2\")"
   ]
  },
  {
   "cell_type": "markdown",
   "id": "afbb0723",
   "metadata": {},
   "source": [
    "# Loops "
   ]
  },
  {
   "cell_type": "code",
   "execution_count": null,
   "id": "30c5f425",
   "metadata": {},
   "outputs": [],
   "source": [
    "n = 5\n",
    "while n>0 :\n",
    "    n = n-1\n",
    "    print(n)\n",
    "print(\"end of while-loop\")   "
   ]
  },
  {
   "cell_type": "code",
   "execution_count": null,
   "id": "432038d7",
   "metadata": {},
   "outputs": [],
   "source": [
    "#sum of n terms\n",
    "n = int(input(\"Enter the value of n : \"))\n",
    "i = 1\n",
    "sum = 0\n",
    "while(i<=n):\n",
    "    sum+=i\n",
    "    i+=1\n",
    "print(\"Sum of first\", n, \"terms is :\",sum)"
   ]
  },
  {
   "cell_type": "code",
   "execution_count": null,
   "id": "3d7dcd3b",
   "metadata": {},
   "outputs": [],
   "source": [
    "#fact of number n\n",
    "n = int(input(\"Enter the value of n : \"))\n",
    "i = 1\n",
    "fact = 1\n",
    "while(i<=n):\n",
    "    fact*=i\n",
    "    i+=1\n",
    "print(\"Factorial of number\", n, \" is : \", fact)"
   ]
  },
  {
   "cell_type": "markdown",
   "id": "b7fe9836",
   "metadata": {},
   "source": [
    "There are two types of Jump statements break and continue"
   ]
  },
  {
   "cell_type": "code",
   "execution_count": null,
   "id": "20f02ae8",
   "metadata": {},
   "outputs": [],
   "source": [
    "n=5\n",
    "while n>=0:\n",
    "    n=n-1\n",
    "    if(n==2):\n",
    "        break\n",
    "    print(n)\n",
    "print(\"loop ended\")"
   ]
  },
  {
   "cell_type": "code",
   "execution_count": null,
   "id": "892ba002",
   "metadata": {},
   "outputs": [],
   "source": [
    "n=5\n",
    "while n>0:\n",
    "    n=n-1\n",
    "    if(n==2):\n",
    "        continue\n",
    "    print(n)\n",
    "print(\"loop ended\")"
   ]
  },
  {
   "cell_type": "markdown",
   "id": "8beb3d3f",
   "metadata": {},
   "source": [
    "# for-loop"
   ]
  },
  {
   "cell_type": "code",
   "execution_count": null,
   "id": "1da78f0a",
   "metadata": {},
   "outputs": [],
   "source": [
    "list_sample = [6,5,4,3,8,1]  #for loop is used in list,tuples etc mostly\n",
    "sum=0\n",
    "for value in list_sample:\n",
    "    sum+=value\n",
    "print(sum)"
   ]
  },
  {
   "cell_type": "code",
   "execution_count": null,
   "id": "4a409a6d",
   "metadata": {},
   "outputs": [],
   "source": [
    "str='python'\n",
    "for i in str:\n",
    "    print(i,\"\\n\")"
   ]
  },
  {
   "cell_type": "code",
   "execution_count": null,
   "id": "3208f9ab",
   "metadata": {},
   "outputs": [],
   "source": [
    "for i in range(0,6,1):\n",
    "    print(i)"
   ]
  },
  {
   "cell_type": "code",
   "execution_count": null,
   "id": "ba6220c2",
   "metadata": {},
   "outputs": [],
   "source": [
    "for i in range(0,6,2):\n",
    "    print(i, end = ' ')"
   ]
  },
  {
   "cell_type": "code",
   "execution_count": null,
   "id": "81d05231",
   "metadata": {},
   "outputs": [],
   "source": [
    "for i in range(0,6,3):\n",
    "    print(i)"
   ]
  },
  {
   "cell_type": "code",
   "execution_count": null,
   "id": "cd5e7dc9",
   "metadata": {},
   "outputs": [],
   "source": [
    "for i in range(30,15,-3):\n",
    "    print(i, end = ' ')"
   ]
  },
  {
   "cell_type": "code",
   "execution_count": null,
   "id": "fe80b715",
   "metadata": {},
   "outputs": [],
   "source": [
    "num = int(input(\"Enter a number : \"))\n",
    "for i in range(1, num+1, 1):\n",
    "    if(i%2!=0):\n",
    "        print(i)"
   ]
  }
 ],
 "metadata": {
  "kernelspec": {
   "display_name": "Python 3 (ipykernel)",
   "language": "python",
   "name": "python3"
  },
  "language_info": {
   "codemirror_mode": {
    "name": "ipython",
    "version": 3
   },
   "file_extension": ".py",
   "mimetype": "text/x-python",
   "name": "python",
   "nbconvert_exporter": "python",
   "pygments_lexer": "ipython3",
   "version": "3.10.9"
  }
 },
 "nbformat": 4,
 "nbformat_minor": 5
}
