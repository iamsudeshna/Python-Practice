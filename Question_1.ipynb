{
 "cells": [
  {
   "cell_type": "markdown",
   "id": "d1146307",
   "metadata": {},
   "source": [
    "# DAUP ASSIGNMENT ISB Co'24 AMPBA"
   ]
  },
  {
   "cell_type": "markdown",
   "id": "e061d003",
   "metadata": {},
   "source": [
    "By Sudeshna Kundu,  \n",
    "  PGID : 12310045"
   ]
  },
  {
   "cell_type": "markdown",
   "id": "e35d6eec",
   "metadata": {},
   "source": [
    "QUESTION 1 Solution"
   ]
  },
  {
   "cell_type": "code",
   "execution_count": null,
   "id": "043542ac",
   "metadata": {},
   "outputs": [],
   "source": [
    "a = int(input(\"Enter the length of the first side: \"))\n",
    "b = int(input(\"Enter the length of the second side: \"))\n",
    "c = int(input(\"Enter the length of the third side: \"))\n",
    "v1 = 0\n",
    "v2 = 0\n",
    "v3 = 0\n",
    "\n",
    "if((a+b)>c):\n",
    "    v1 = 1\n",
    "else:\n",
    "    v1 = 0\n",
    "      \n",
    "if((b+c)>a):\n",
    "    v2 = 1\n",
    "else:\n",
    "    v2 = 0\n",
    "\n",
    "if((c+a)>b):\n",
    "    v3 = 1\n",
    "else:\n",
    "    v3 = 0\n",
    "    \n",
    "    \n",
    "if (v1==1 and v2==1 and v3==1):\n",
    "    print(\"The triangle is possible with the sides of length \", a,\", \",b,\", \",c)\n",
    "else:\n",
    "    print(\"The triangle is not possible with the sides of length \", a,\", \",b,\", \",c)"
   ]
  }
 ],
 "metadata": {
  "kernelspec": {
   "display_name": "Python 3 (ipykernel)",
   "language": "python",
   "name": "python3"
  },
  "language_info": {
   "codemirror_mode": {
    "name": "ipython",
    "version": 3
   },
   "file_extension": ".py",
   "mimetype": "text/x-python",
   "name": "python",
   "nbconvert_exporter": "python",
   "pygments_lexer": "ipython3",
   "version": "3.10.9"
  }
 },
 "nbformat": 4,
 "nbformat_minor": 5
}
